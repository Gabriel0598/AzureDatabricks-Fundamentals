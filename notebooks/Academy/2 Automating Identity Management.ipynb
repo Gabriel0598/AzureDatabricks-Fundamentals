{
 "cells": [
  {
   "cell_type": "markdown",
   "metadata": {},
   "source": [
    "\n",
    "<div style=\"text-align: center; line-height: 0; padding-top: 9px;\">\n",
    "  <img src=\"https://databricks.com/wp-content/uploads/2018/03/db-academy-rgb-1200px.png\" alt=\"Databricks Learning\" style=\"width: 600px\">\n",
    "</div>"
   ]
  },
  {
   "cell_type": "markdown",
   "metadata": {},
   "source": [
    "## Automating Identity Management\n",
    "\n",
    "In this demo, we will explore how to automate identity management using the Databricks SDK for Python. We will learn how to manage users, service principals, and groups programmaticaly within a Databricks workspace. Through the Account Client component of the Databricks SDK library, we will demonstrate key tasks such as creating and querying users, service principals, and groups, as well as managing group membership. Additionally, we will cover how to assign administrative roles and delete resources, ensuring efficient resource management within your Databricks environment."
   ]
  },
  {
   "cell_type": "markdown",
   "metadata": {},
   "source": [
    "### Classroom Setup"
   ]
  },
  {
   "cell_type": "code",
   "execution_count": null,
   "metadata": {
    "vscode": {
     "languageId": "plaintext"
    }
   },
   "outputs": [],
   "source": [
    "%run ./Includes/Classroom-Setup-01"
   ]
  },
  {
   "cell_type": "markdown",
   "metadata": {},
   "source": [
    "## Overview\n",
    "Databricks provides comprehensive funcionality through its Python SDK, enabling seamless interaction with various Databricks resources. In this demo, we will focus on using the Account Client library of the Databricks SDK for Python to programmaticaly manage users, service principals, and groups within a Databricks account.\n",
    "\n",
    "There are a number of ways to leverage the Databricks SDK with the Account Client:\n",
    "- Utilize the SDK to directly invoke methods for managing users, groups, and service principals without needing to manually construct HTTP requests.\n",
    "- Automate resource management by integrating the Account Client library into Python scripts, streamlining operations such as onboarding users or configuring service principals.\n",
    "- Incorporate the SDK into larger automation frameworks, leveraging its intuitive API design to manage Databricks resources efficiently.\n",
    "\n",
    "Regardless of which approach you take to utilize the Account Client library of the Databricks SDK, you need the following from the account console:\n",
    "- The account ID of a user with account admin privileges.\n",
    "- The client ID and client secret token generated for a service principal with account privileges.\n",
    "\n",
    "Depending on the operation, you may need to provide additional parameters of payloads to fulfill the request, such as user details or group configurations."
   ]
  },
  {
   "cell_type": "markdown",
   "metadata": {},
   "source": [
    "### Creating a Service Principal with Admin Privileges"
   ]
  },
  {
   "cell_type": "code",
   "execution_count": null,
   "metadata": {},
   "outputs": [],
   "source": [
    "DA.get_credentials_for_SDK()"
   ]
  },
  {
   "cell_type": "markdown",
   "metadata": {},
   "source": [
    "### Configuring account client object with Databricks SDK"
   ]
  },
  {
   "cell_type": "code",
   "execution_count": null,
   "metadata": {},
   "outputs": [],
   "source": [
    "import os\n",
    "from databricks.sdk import WorkspaceClient\n",
    "\n",
    "a = AccountClient(\n",
    "    host=os.getenv(\"DATABRICKS_HOST\"),\n",
    "    account_id=os.getenv(\"DATABRICKS_ACCOUNT_ID\"),\n",
    "    client_id=os.getenv(\"DATABRICKS_CLIENT_ID\"),\n",
    "    client_secret=os.getenv(\"DATABRICKS_CLIENT_SECRET\"),\n",
    "    debug_truncate_bytes=1024,\n",
    "    debug_headers=False\n",
    ")"
   ]
  },
  {
   "cell_type": "markdown",
   "metadata": {},
   "source": [
    "### Queryng Users"
   ]
  },
  {
   "cell_type": "code",
   "execution_count": null,
   "metadata": {},
   "outputs": [],
   "source": [
    "import json # Pretty printing\n",
    "\n",
    "# List of users in the account\n",
    "try:\n",
    "    user_details = {} # Nested dictionary to store user details\n",
    "    users = a.users.list() # Fetch current batch of users\n",
    "    \n",
    "    for idx, user in enumerate(users, start=1):\n",
    "        # Process each user's id, userName and displayName\n",
    "        user_id = user.id\n",
    "        user_name = user.user_name\n",
    "        display_name = user.display_name\n",
    "        \n",
    "        # Add the group details to dictionary\n",
    "        user_details[\"User_\"+str(idx)] = {\n",
    "            \"ID: \": user_id,\n",
    "            \"User Name: \": user_name,\n",
    "            \"Display Name\": display_name\n",
    "        }\n",
    "        \n",
    "    # Pretty print the nested dictionary of users\n",
    "    print(\"Users Organized in Nested Dictionary:\")\n",
    "    print(json.dumps(user_details, indent=4), end=\"\\n\\n\") # Pretty print with 4-space indentation\n",
    "    \n",
    "    print(\"All users processed.\")\n",
    "except Exception as e:\n",
    "    print(\"Error occurred while processing users: \", str{e})"
   ]
  },
  {
   "cell_type": "markdown",
   "metadata": {},
   "source": [
    "### Creating a user"
   ]
  },
  {
   "cell_type": "code",
   "execution_count": null,
   "metadata": {},
   "outputs": [],
   "source": [
    "import json # Importing json for pretty printing\n",
    "\n",
    "# Create a user in the account\n",
    "my_name = \"testuser2@maildrop.cc\"\n",
    "my_display_name = \"Test User 2\"\n",
    "\n",
    "try:\n",
    "    # Create the user - Test 2\n",
    "    user = a.users.create(\n",
    "        user_name=my_name, # The user's username (email or ID)\n",
    "        display_name=my_display_name, # The user's display name\n",
    "    )\n",
    "    \n",
    "    # Create a dictionary to store new user details\n",
    "    new_user_details = {\n",
    "        \"ID: \": user.id,\n",
    "        \"User Name: \": user.user_name,\n",
    "        \"Display Name\": user.display_name\n",
    "    }\n",
    "    \n",
    "    # Pretty print the new user dictionary\n",
    "    print(\"User created successfully:\")\n",
    "    print(json.dumps(new_user_details, indent=4)) # Pretty print with 4-space indentation\n",
    "except Exception as e:\n",
    "    print(\"Error occurred while creating user: \", str(e))"
   ]
  },
  {
   "cell_type": "markdown",
   "metadata": {},
   "source": [
    "### Querying service principals"
   ]
  },
  {
   "cell_type": "code",
   "execution_count": null,
   "metadata": {},
   "outputs": [],
   "source": [
    "import json # Importing json for pretty printing\n",
    "\n",
    "# List of service principals in the account\n",
    "try:\n",
    "    sp_details = {} # Nested dictionary to store service principal details\n",
    "    service_principals = a.service_principals.list() # Fetch current batch of service principals\n",
    "    \n",
    "    for idx, sp in enumerate(service_principals, start=1):\n",
    "        # Process each service principal's id, appId and displayName\n",
    "        sp_id = sp.id\n",
    "        sp_name = sp.display_name\n",
    "        application_id = sp.application_id\n",
    "        roles = sp.roles\n",
    "        \n",
    "        # Add the service principal details to the dictionary\n",
    "        sp_details[\"SP_\"+str(idx)] = {\n",
    "            \"ID\": sp_id,\n",
    "            \"Display Name\": sp_name,\n",
    "            \"Application ID\": application_id,\n",
    "            \"Roles: \": [cv.value for cv in roles] if roles else [] # Convert roles to a list of strings\n",
    "        }\n",
    "        \n",
    "    # Pretty print the nested dictionary of service principals\n",
    "    print(\"Service Principals Organized in Nested Dictionary:\")\n",
    "    print(json.dumps(sp_details, indent=4), end=\"\\n\\n\") # Pretty print with 4-space indentation\n",
    "    print(\"All service principals processed.\")\n",
    "except Exception as e:\n",
    "    print(\"Error occurred while processing service principals: \", str(e))"
   ]
  },
  {
   "cell_type": "markdown",
   "metadata": {},
   "source": [
    "### Crating a service principal"
   ]
  },
  {
   "cell_type": "code",
   "execution_count": null,
   "metadata": {},
   "outputs": [],
   "source": [
    "import json # Importing json for pretty printing\n",
    "from databricks.sdk import AccountClient\n",
    "\n",
    "# Initialize the Databricks Account Client\n",
    "account_client = AccountClient()\n",
    "\n",
    "# Define service principal details\n",
    "service_principal_display_name = \"test_sp_2\"\n",
    "\n",
    "# List of service principals in the account\n",
    "try:\n",
    "    # Create the service principal using the Account Client\n",
    "    service_principal = account_client.service_principals.create(\n",
    "        display_name=service_principal_display_name, # The service principal's display name\n",
    "    )\n",
    "    \n",
    "    # Create a dictionary to store new service principal details\n",
    "    new_sp_details = {\n",
    "        \"ID: \": service_principal.id,\n",
    "        \"Display Name: \": service_principal.display_name\n",
    "    }\n",
    "        \n",
    "    # Pretty print the nested dictionary of service principals\n",
    "    print(\"Service Principals created successfully:\")\n",
    "    print(json.dumps(new_sp_details, indent=4)) # Pretty print with 4-space indentation\n",
    "except Exception as e:\n",
    "    print(\"Error occurred while processing service principals: \", str(e))"
   ]
  },
  {
   "cell_type": "markdown",
   "metadata": {},
   "source": [
    "### Groups - Querying groups"
   ]
  },
  {
   "cell_type": "code",
   "execution_count": null,
   "metadata": {},
   "outputs": [],
   "source": [
    "import json # Importing json for pretty printing\n",
    "\n",
    "# List of service principals in the account\n",
    "try:\n",
    "    group_details = {} # Nested dictionary to store service principal details\n",
    "    groups = a.groups.list() # Fetch current batch of service principals\n",
    "    \n",
    "    for idx, group in enumerate(groups, start=1):\n",
    "        # Process each group's id, displayName and source of creation\n",
    "        group_id = group.id\n",
    "        group_name = group.display_name\n",
    "        \n",
    "        # Add the service principal details to the dictionary\n",
    "        group_details[\"Group_\"+str(idx)] = {\n",
    "            \"ID\": group_id,\n",
    "            \"Display Name\": group_name\n",
    "        }\n",
    "        \n",
    "    # Pretty print the nested dictionary of service principals\n",
    "    print(\"Groups Organized in Nested Dictionary:\")\n",
    "    print(json.dumps(group_details, indent=4), end=\"\\n\\n\") # Pretty print with 4-space indentation\n",
    "    print(\"All service principals processed.\")\n",
    "except Exception as e:\n",
    "    print(\"Error occurred while processing service principals: \", str(e))"
   ]
  },
  {
   "cell_type": "markdown",
   "metadata": {},
   "source": [
    "### Creating a group"
   ]
  },
  {
   "cell_type": "code",
   "execution_count": null,
   "metadata": {},
   "outputs": [],
   "source": [
    "import json # Importing json for pretty printing\n",
    "\n",
    "# Define group details\n",
    "group_display_name = \"analysts_test_2\"\n",
    "\n",
    "try:\n",
    "    # Create the group\n",
    "    group = a.groups.create(\n",
    "        display_name=group_display_name, # The group's display name\n",
    "    )\n",
    "    \n",
    "    # Create a dictionary to store new group details\n",
    "    new_group_details = {\n",
    "        \"ID: \": group.id,\n",
    "        \"Display Name: \": group.display_name\n",
    "    }\n",
    "        \n",
    "    # Pretty print the nested dictionary of service principals\n",
    "    print(\"Group created successfully:\")\n",
    "    print(json.dumps(new_sp_details, indent=4)) # Pretty print with 4-space indentation\n",
    "except Exception as e:\n",
    "    print(\"Error occurred while processing service principals: \", str(e))"
   ]
  },
  {
   "cell_type": "markdown",
   "metadata": {},
   "source": [
    "### Assigning Members to a Group"
   ]
  },
  {
   "cell_type": "code",
   "execution_count": null,
   "metadata": {},
   "outputs": [],
   "source": [
    "import json # Importing json for pretty printing\n",
    "from databricks.sdk.service.iam import Patch, PatchOp, PatchSchema\n",
    "\n",
    "# Configuration\n",
    "group_name = \"analysts_test_2\"\n",
    "user_name = \"testuser2@maildrop.cc\"\n",
    "service_principal_name = \"test_sp_2\"\n",
    "\n",
    "try:\n",
    "    # Step 1: Fecth the group details by name\n",
    "    groups = a.groups.list() # Fetch current batch of groups\n",
    "    group_id = None\n",
    "    for group in groups:\n",
    "        if group.display_name == group_name:\n",
    "            group_id = group.id\n",
    "            break\n",
    "        \n",
    "    if not group_id:\n",
    "        raise ValueError(f\"Group '{group_name}' does not exist. Please create it first.\")\n",
    "    \n",
    "    # Step 2: Fecth the user and service principal details\n",
    "    users = a.users.list() # Fetch current batch of users\n",
    "    user_id = next((user.id for user in users if user.user_name == user_name), None)\n",
    "    if not user_id:\n",
    "        raise ValueError(f\"User '{user_name}' does not exist.\")\n",
    "    \n",
    "    service_principals = a.service_principals.list() # Fetch current batch of service principals\n",
    "    service_principal_id = next(\n",
    "        (sp.id for sp in service_principals if sp.display_name == service_principal_name), None\n",
    "    )\n",
    "    if not service_principal_id:\n",
    "        raise ValueError(f\"Service Principal '{service_principal_name}' does not exist.\")\n",
    "    \n",
    "    # Step 3: Add user and service principal to the group\n",
    "    a.groups.patch(\n",
    "        id=group_id,\n",
    "        operations=[Patch(\n",
    "            op=PatchOp.ADD,\n",
    "            value={\"Members\": [{\n",
    "                \"value\": user_id,\n",
    "            },{\n",
    "                \"value\": service_principal_id,\n",
    "            }]},\n",
    "        )],\n",
    "        schemas = [PatchSchema.URN_IETF_PARAMS_SCIM_API_MESSAGES_2_0_PATCH_OP],\n",
    "    )\n",
    "    \n",
    "    # Step 4: Display confirmation\n",
    "    assigned_details = {\n",
    "        \"Group Name\": group_name,\n",
    "        \"User Added\": {\n",
    "            \"User Name: \": user_name,\n",
    "            \"User ID: \": user_id\n",
    "        },\n",
    "        \"Service Principal Added\": {\n",
    "            \"Service Principal Name: \": service_principal_name,\n",
    "            \"Service Principal ID: \": service_principal_id\n",
    "        }\n",
    "    }\n",
    "    \n",
    "    # Pretty print the nested dictionary of service principals\n",
    "    print(\"Service Principals created successfully:\")\n",
    "    print(json.dumps(assigned_details, indent=4)) # Pretty print with 4-space indentation\n",
    "except Exception as e:\n",
    "    print(\"Error occurred while processing service principals: \", str(e))"
   ]
  },
  {
   "cell_type": "markdown",
   "metadata": {},
   "source": [
    "### Querying group members"
   ]
  },
  {
   "cell_type": "code",
   "execution_count": null,
   "metadata": {},
   "outputs": [],
   "source": [
    "import json # Importing json for pretty printing\n",
    "\n",
    "# Configuration\n",
    "group_name = \"analysts_test_2\"\n",
    "\n",
    "try:\n",
    "    # Step 1: Fecth the group details by name\n",
    "    groups = a.groups.list() # Fetch current batch of service principals\n",
    "    group_id = None\n",
    "    \n",
    "    for group in groups:\n",
    "        if group.display_name == group_name:\n",
    "            group_id = group.id\n",
    "            break\n",
    "    \n",
    "    if not group_id:\n",
    "        raise ValueError(f\"Group '{group_name}' does not exist. Please create it first.\")\n",
    "    \n",
    "    # Step 2: Fetch the group's members\n",
    "    group = a.groups.get(id=group_id) # Fetch the group details\n",
    "    members = group.members # Get the members of the group\n",
    "    \n",
    "    # Step 3: Display group members\n",
    "    member_details = {\n",
    "        \"Group Name\": group_name,\n",
    "        \"Members\": []\n",
    "    }\n",
    "    \n",
    "    for member in members:\n",
    "        member_type = \"User\" if hasattr(member, \"user_name\") else \"Service Principal\"\n",
    "        member_details[\"Members\"].append({\n",
    "            \"Member Name\": member.display,\n",
    "            \"Member Type\": member_type # Convert enum to string\n",
    "        })\n",
    "        \n",
    "    # Pretty print the nested dictionary of service principals\n",
    "    print(\"Group Member Details:\")\n",
    "    print(json.dumps(member_details, indent=4)) # Pretty print with 4-space indentation\n",
    "    print(\"All groups processed.\")\n",
    "except Exception as e:\n",
    "    print(\"Error occurred while processing grops members: \", str(e))"
   ]
  },
  {
   "cell_type": "markdown",
   "metadata": {},
   "source": [
    "### Removing Members from a Group"
   ]
  },
  {
   "cell_type": "code",
   "execution_count": null,
   "metadata": {},
   "outputs": [],
   "source": [
    "import json # Importing json for pretty printing\n",
    "\n",
    "# Configuration\n",
    "group_name = \"analysts_test_2\"\n",
    "user_name = \"testuser2@maildrop.cc\"\n",
    "service_principal_name = \"test_sp_2\"\n",
    "\n",
    "try:\n",
    "    # Step 1: Fecth the group details by name\n",
    "    groups = a.groups.list() # Fetch current batch of service principals\n",
    "    group_id = None\n",
    "    for group in groups:\n",
    "        if group.display_name == group_name:\n",
    "            group_id = group.id\n",
    "            break\n",
    "    \n",
    "    if not group_id:\n",
    "        raise ValueError(f\"Group '{group_name}' does not exist. Please create it first.\")\n",
    "    \n",
    "    # Step 2: Fetch the user and service principal details\n",
    "    users = a.users.list() # Fetch the group details\n",
    "    user_id = next((user.id for user in users if user.user_name == user_name), None) # Get the members of the group\n",
    "    if not user_id:\n",
    "        raise ValueError(f\"User '{user_name}' does not exist.\")\n",
    "    \n",
    "    service_principals = a.service_principals.list() # Fetch current batch of service principals\n",
    "    service_principal_id = next(\n",
    "        (sp.id for sp in service_principals if sp.display_name == service_principal_name), None\n",
    "    )\n",
    "    if not service_principal_id:\n",
    "        raise ValueError(f\"Service Principal '{service_principal_name}' does not exist.\")\n",
    "    \n",
    "    # Step 3: Remove the user and service principal from the group\n",
    "    a.groups.patch(\n",
    "        id=group_id,\n",
    "        operations=[Patch(\n",
    "            op=PatchOp.REMOVE,\n",
    "            path=\"members\", \n",
    "            value=[{\n",
    "                \"value\": user_id,\n",
    "            },{\n",
    "                \"value\": service_principal_id,\n",
    "            }],\n",
    "        )],\n",
    "        schemas = [PatchSchema.URN_IETF_PARAMS_SCIM_API_MESSAGES_2_0_PATCH_OP],\n",
    "    )\n",
    "        \n",
    "    # Step 4: Fetch the group details again to get the remaining members\n",
    "    group = a.groups.get(id=group_id) # Fetch the group details\n",
    "    members = group.members # Get the members of the group\n",
    "    \n",
    "    # Organize group member details\n",
    "    member_details = {\n",
    "        \"Group Name\": group_name,\n",
    "        \"Members\": []\n",
    "    }\n",
    "    for member in members:\n",
    "        member_type = \"User\" if hasattr(member, \"user_name\") else \"Service Principal\"\n",
    "        member_details[\"Members\"].append({\n",
    "            \"Member Name\": member.display,\n",
    "            \"Member Type\": member_type # Convert enum to string\n",
    "        })\n",
    "        \n",
    "    # Pretty print the nested dictionary of service principals\n",
    "    print(\"Group Member Details:\")\n",
    "    print(json.dumps(member_details, indent=4)) # Pretty print with 4-space indentation\n",
    "    print(\"All groups processed.\")\n",
    "except Exception as e:\n",
    "    print(\"Error occurred while processing grops members: \", str(e))"
   ]
  },
  {
   "cell_type": "markdown",
   "metadata": {},
   "source": [
    "### Cleanup - Deleting Group"
   ]
  },
  {
   "cell_type": "code",
   "execution_count": null,
   "metadata": {},
   "outputs": [],
   "source": [
    "# Configuration\n",
    "group_name = \"analysts_test_2\"\n",
    "\n",
    "try:\n",
    "    # Step 1: Fecth the group details by name\n",
    "    groups = a.groups.list() # Fetch current batch of service principals\n",
    "    group_id = next(\n",
    "        (group.id for group in groups if group.display_name == group_name), None\n",
    "    )\n",
    "    if not group_id:\n",
    "        raise ValueError(f\"Group '{group_name}' does not exist. Please create it first.\")\n",
    "    \n",
    "    # Step 2: Delete the group\n",
    "    a.groups.delete(id=group_id) # Delete the group\n",
    "    print(f\"Group '{group_name}' deleted successfully.\")\n",
    "except Exception as e:\n",
    "    print(\"Error occurred while processing groups: \", str(e))"
   ]
  },
  {
   "cell_type": "markdown",
   "metadata": {},
   "source": [
    "### Deleting Service Principal"
   ]
  },
  {
   "cell_type": "code",
   "execution_count": null,
   "metadata": {},
   "outputs": [],
   "source": [
    "# Configuration\n",
    "service_principal_name = \"test_sp_2\"\n",
    "\n",
    "try:\n",
    "    # Step 1: Fecth the service principal details by name\n",
    "    service_principals = a.service_principals.list() # Fetch current batch of service principals\n",
    "    service_principal_id = next(\n",
    "        (sp.id for sp in service_principals if sp.display_name == service_principal_name), None\n",
    "    )\n",
    "    if not service_principal_id:\n",
    "        raise ValueError(f\"Service Principal '{service_principal_name}' does not exist.\")\n",
    "    \n",
    "    # Step 2: Delete the service principal\n",
    "    a.service_principals.delete(id=service_principal_id) # Delete the service principal\n",
    "    print(f\"Service Principal '{service_principal_name}' deleted successfully.\")\n",
    "except Exception as e:\n",
    "    print(\"Error occurred while processing service principals: \", str(e))"
   ]
  },
  {
   "cell_type": "markdown",
   "metadata": {},
   "source": [
    "### Deleting User"
   ]
  },
  {
   "cell_type": "code",
   "execution_count": null,
   "metadata": {},
   "outputs": [],
   "source": [
    "# Configuration\n",
    "user_name = \"testuser2@maildrop.cc\"\n",
    "\n",
    "try:\n",
    "    # Step 1: Fecth the user details by name\n",
    "    users = a.users.list() # Fetch current batch of users\n",
    "    user_id = next((user.id for user in users if user.user_name == user_name), None)\n",
    "    if not user_id:\n",
    "        raise ValueError(f\"User '{user_name}' does not exist.\")\n",
    "    \n",
    "    # Step 2: Delete the user\n",
    "    a.users.delete(id=user_id) # Delete the user\n",
    "    print(f\"User '{user_name}' deleted successfully.\")\n",
    "except Exception as e:\n",
    "    print(\"Error occurred while processing users: \", str(e))"
   ]
  },
  {
   "cell_type": "markdown",
   "metadata": {},
   "source": [
    "### Conclusion"
   ]
  }
 ],
 "metadata": {
  "language_info": {
   "name": "python"
  }
 },
 "nbformat": 4,
 "nbformat_minor": 2
}

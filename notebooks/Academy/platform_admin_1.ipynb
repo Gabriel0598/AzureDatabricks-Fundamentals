{
    "cells": [
        {
            "attachments": {},
            "cell_type": "markdown",
            "metadata": {
                "azdata_cell_guid": "917d2256-cf9e-4907-a937-deba4bba7b85"
            },
            "source": [
                "## Stage 1: Catalog"
            ]
        },
        {
            "cell_type": "code",
            "execution_count": null,
            "metadata": {
                "azdata_cell_guid": "e59b731a-892f-4176-8c13-58334247f1aa",
                "language": "sql"
            },
            "outputs": [],
            "source": [
                "# List the objects components\n",
                "print(f\"Username: {DA.username}\")\n",
                "print(f\"Catalog Name: {DA.catalog_name}\")\n",
                "print(f\"Default schema name: {DA.schema_name}\")\n",
                "print()\n",
                "\n",
                "# List the unique user-specific variables for catalog name\n",
                "print(f\"Secondary principal: {DA.iam.secondary}\")\n",
                "print(f\"Secondary principal-Specific catalog name: {DA.secondary_principal_catalog_name}\")"
            ]
        },
        {
            "cell_type": "code",
            "execution_count": null,
            "metadata": {
                "azdata_cell_guid": "6cca5251-00c2-4e02-b94f-b887542607d4",
                "language": "sql",
                "tags": []
            },
            "outputs": [],
            "source": [
                "%sql\n",
                "CREATE CATALOG IF NOT EXISTS `$DA.secondary_principal_catalog_name}`"
            ]
        },
        {
            "cell_type": "code",
            "execution_count": null,
            "metadata": {
                "azdata_cell_guid": "2a25a9f6-7c64-471f-a596-7bcf2d66cfaa",
                "language": "sql"
            },
            "outputs": [],
            "source": [
                "%sql\n",
                "USE CATALOG `$DA.secondary_principal_catalog_name}`"
            ]
        },
        {
            "cell_type": "code",
            "execution_count": null,
            "metadata": {
                "azdata_cell_guid": "7b8c1d42-8b8d-4327-bed7-b66d8bda92b7",
                "language": "sql"
            },
            "outputs": [],
            "source": [
                "%sql\n",
                "CREATE SCHEMA IF NOT EXISTS example"
            ]
        },
        {
            "cell_type": "code",
            "execution_count": null,
            "metadata": {
                "azdata_cell_guid": "0bb85276-a6a6-4bd5-9831-5591cb0803a4",
                "language": "sql"
            },
            "outputs": [],
            "source": [
                "%sql\n",
                "USE SCHEMA example"
            ]
        },
        {
            "attachments": {},
            "cell_type": "markdown",
            "metadata": {
                "azdata_cell_guid": "a80f8d19-b494-4b31-8449-bbe79bd229e9"
            },
            "source": [
                "## Stage 2: Data Modelling"
            ]
        },
        {
            "cell_type": "code",
            "execution_count": null,
            "metadata": {
                "azdata_cell_guid": "cbb9f258-7c94-4ffc-8569-19a05f61f5e4",
                "language": "sql"
            },
            "outputs": [],
            "source": [
                "%sql\n",
                "CREATE OR REPLACE TABLE silver\n",
                "(\n",
                "    device_id INT\n",
                "    , mrn STRING\n",
                "    , name STRING\n",
                "    , time TIMESTAMP\n",
                "    , heartrate DOUBLE\n",
                ");\n",
                "\n",
                "INSERT INTO silver VALUES\n",
                "    (23, '40580129', 'Nicholas Spears', '2020-02-01T00:01:58.000=0000', 54.0122153343)\n",
                "    , (17, '52804177', 'Lynn Russell', '2020-02-01T00:02:58.000=0000', 54.0122153343)\n",
                "    , (37, '65300842', 'Samuel Hughes', '2020-02-01T00:03:58.000=0000', 54.0122153343)\n",
                "    , (23, '40580129', 'Nicholas Spears', '2020-02-01T00:04:58.000=0000', 54.0122153343)\n",
                "    , (17, '52804177', 'Lynn Russell', '2020-02-01T00:05:58.000=0000', 54.0122153343)\n",
                "    , (37, '65300842', 'Samuel Hughes', '2020-02-01T00:06:58.000=0000', 54.0122153343)\n",
                "    , (23, '40580129', 'Nicholas Spears', '2020-02-01T00:07:58.000=0000', 54.0122153343)\n",
                "    , (17, '52804177', 'Lynn Russell', '2020-02-01T00:08:58.000=0000', 54.0122153343)\n",
                "    , (37, '65300842', 'Samuel Hughes', '2020-02-01T00:09:58.000=0000', 54.0122153343)\n",
                "    , (23, '40580129', 'Nicholas Spears', '2020-02-01T00:10:58.000=0000', 54.0122153343);"
            ]
        },
        {
            "cell_type": "code",
            "execution_count": null,
            "metadata": {
                "azdata_cell_guid": "2443e339-0861-4183-8000-2ec944283470",
                "language": "sql"
            },
            "outputs": [],
            "source": [
                "%sql\n",
                "SELECT * FROM silver;"
            ]
        },
        {
            "attachments": {},
            "cell_type": "markdown",
            "metadata": {
                "azdata_cell_guid": "c46c7bd8-5872-4371-8ec3-877048a81e58"
            },
            "source": [
                "### Task 4: Create and Managing Views"
            ]
        },
        {
            "cell_type": "code",
            "execution_count": null,
            "metadata": {
                "azdata_cell_guid": "2da81669-bab2-416d-b18e-e458fb2942e8",
                "language": "sql"
            },
            "outputs": [],
            "source": [
                "%sql\n",
                "CREATE OR REPLACE VIEW gold as (\n",
                "    SELECT mrn, name, MEAN(heartrate) as avg_heartrate, DATE_TRUNC(\"DD\", time) date\n",
                "    FROM silver\n",
                "    GROUP BY mrn, name, DATE_TRUNC(\"DD\", time)\n",
                ")"
            ]
        },
        {
            "attachments": {},
            "cell_type": "markdown",
            "metadata": {
                "azdata_cell_guid": "e30be1aa-bfad-4d62-a059-8b13f15a52f2",
                "language": "sql"
            },
            "source": [
                "## Stage 3: Function Development and Management"
            ]
        },
        {
            "cell_type": "code",
            "execution_count": null,
            "metadata": {
                "azdata_cell_guid": "460a6f0f-8889-4861-b7ac-2a485e13e949",
                "language": "sql"
            },
            "outputs": [],
            "source": [
                "%sql\n",
                "CREATE OR REPLACE FUNCTION mask(x STRING)\n",
                "    RETURNS STRING\n",
                "    RETURN CONCAT(REPEAT(\"*\", LENGTH(x) - 2), RIGHT(x, 2))"
            ]
        },
        {
            "cell_type": "code",
            "execution_count": null,
            "metadata": {
                "azdata_cell_guid": "9a7c984a-6c48-434a-9632-6d4f31f928b9",
                "language": "sql"
            },
            "outputs": [],
            "source": [
                "%sql\n",
                "DESCRIBE FUNCTION mask"
            ]
        },
        {
            "cell_type": "code",
            "execution_count": null,
            "metadata": {
                "azdata_cell_guid": "5b3c3ea9-f008-4886-bfb4-da3a59b468eb",
                "language": "sql",
                "tags": [
                    "hide_input"
                ]
            },
            "outputs": [],
            "source": [
                "%sql\n",
                "SELECT mask('sensitive data') AS data"
            ]
        },
        {
            "attachments": {},
            "cell_type": "markdown",
            "metadata": {
                "azdata_cell_guid": "eebfecb6-2aeb-4660-89d0-e91e768c3edc",
                "language": "sql"
            },
            "source": [
                "## Stage 4: Access Control and Privilege Management"
            ]
        },
        {
            "cell_type": "code",
            "execution_count": null,
            "metadata": {
                "azdata_cell_guid": "f6b6be40-53d8-498b-b1aa-10ae798bcb76",
                "language": "sql",
                "vscode": {
                    "languageId": "python"
                }
            },
            "outputs": [],
            "source": [
                "spark.sql(f\"GRANT USE CATALOG ON CATALOG `{DA.secondary_principal_name}` TO `{DA.iam.secondary}`\")"
            ]
        },
        {
            "cell_type": "code",
            "execution_count": null,
            "metadata": {
                "azdata_cell_guid": "9ec4d3ee-36ff-46c8-8cc8-bef541f44889",
                "language": "sql",
                "vscode": {
                    "languageId": "python"
                }
            },
            "outputs": [],
            "source": [
                "spark.sql(f\"GRANT USE SCHEMA ON SCHEMA example TO `{DA.iam.secondary}`\")"
            ]
        },
        {
            "cell_type": "code",
            "execution_count": null,
            "metadata": {
                "azdata_cell_guid": "2d696f8b-a65b-4717-a247-f954e43b01d1",
                "language": "sql",
                "vscode": {
                    "languageId": "python"
                }
            },
            "outputs": [],
            "source": [
                "spark.sql(f\"GRANT SELECT ON VIEW gold TO `{DA.iam.secondary}`\")"
            ]
        },
        {
            "attachments": {},
            "cell_type": "markdown",
            "metadata": {
                "azdata_cell_guid": "04e2f5cf-3419-49c5-a6b1-600b6ac61308",
                "language": "sql"
            },
            "source": [
                "### Querying the View as a Secondary Principal"
            ]
        },
        {
            "cell_type": "code",
            "execution_count": null,
            "metadata": {
                "azdata_cell_guid": "f2ba2eb5-1301-40f7-93ef-e4b747c2be47",
                "language": "sql",
                "tags": [],
                "vscode": {
                    "languageId": "python"
                }
            },
            "outputs": [],
            "source": [
                "data = [] # Create a dataframe to store the table values\n",
                "\n",
                "try:\n",
                "    with DA.connection.cursor() as cursor:\n",
                "        cursor.execute(\"SELECT * FROM `{DA.secondary_principal_catalog_name}`.example.gold\")\n",
                "        result = cursor.fetchall()\n",
                "\n",
                "        for row in result:\n",
                "            data.append(row)\n",
                "\n",
                "    # Create a dataframe from the list of tuples\n",
                "    df = spark.createDataFrame(data)\n",
                "    \n",
                "    # Show the Dataframe\n",
                "    display(df)\n",
                "    \n",
                "except Exception as e:\n",
                "    print(\"Error: \\n\" + str(e))"
            ]
        },
        {
            "cell_type": "markdown",
            "metadata": {},
            "source": [
                "#### Querying the Table as a Secondary Principal"
            ]
        },
        {
            "cell_type": "code",
            "execution_count": null,
            "metadata": {
                "vscode": {
                    "languageId": "python"
                }
            },
            "outputs": [],
            "source": [
                "data = [] # Create a dataframe to store the table values\n",
                "\n",
                "try:\n",
                "    with DA.connection.cursor() as cursor:\n",
                "        cursor.execute(\"SELECT * FROM `{DA.secondary_principal_catalog_name}`.example.silver\")\n",
                "        result = cursor.fetchall()\n",
                "        \n",
                "        for row in result:\n",
                "            data.append(row)\n",
                "            \n",
                "    # Create a dataframe from the list of tuples\n",
                "    df = spark.createDataFrame(data)\n",
                "    \n",
                "    # Show the Dataframe\n",
                "    display(df)\n",
                "except Exception as e:\n",
                "    print(\"Error: \\n\" + str(e))"
            ]
        },
        {
            "cell_type": "markdown",
            "metadata": {},
            "source": [
                "#### Grantic Access to a Function to the Secondary Principal"
            ]
        },
        {
            "cell_type": "code",
            "execution_count": null,
            "metadata": {
                "vscode": {
                    "languageId": "python"
                }
            },
            "outputs": [],
            "source": [
                "spark.sql(f\"GRANT EXECUTE ON FUNCTION mask TO `{DA.iam.secondary}`\")"
            ]
        },
        {
            "cell_type": "markdown",
            "metadata": {},
            "source": [
                "#### Privileges on the Secondary Principal"
            ]
        },
        {
            "cell_type": "code",
            "execution_count": null,
            "metadata": {},
            "outputs": [],
            "source": [
                "%sql\n",
                "SHOW GRANTS `{DA.iam.secondary}` ON FUNCTION mask;"
            ]
        },
        {
            "cell_type": "markdown",
            "metadata": {},
            "source": [
                "## Stage 5: Security and Governance"
            ]
        },
        {
            "cell_type": "code",
            "execution_count": null,
            "metadata": {},
            "outputs": [],
            "source": [
                "%sql\n",
                "SELECT * FROM silver"
            ]
        },
        {
            "cell_type": "code",
            "execution_count": null,
            "metadata": {},
            "outputs": [],
            "source": [
                "%sql\n",
                "CREATE FUNCTION mrn_mask(mrn STRING)\n",
                "    RETURN CASE WHEN is_account_group_member('{DA.iam.secondary}') THEN mrn ELSE 'REDACTED' END;"
            ]
        },
        {
            "cell_type": "code",
            "execution_count": null,
            "metadata": {},
            "outputs": [],
            "source": [
                "%sql\n",
                "ALTER TABLE silver ALTER COLUMN mrn SET MASK mrn_mask;"
            ]
        },
        {
            "cell_type": "code",
            "execution_count": null,
            "metadata": {},
            "outputs": [],
            "source": [
                "%sql\n",
                "SELECT * FROM silver"
            ]
        },
        {
            "cell_type": "code",
            "execution_count": null,
            "metadata": {},
            "outputs": [],
            "source": [
                "%sql\n",
                "ALTER TABLE silver ALTER COLUMN mrn DROP MASK;"
            ]
        },
        {
            "cell_type": "code",
            "execution_count": null,
            "metadata": {},
            "outputs": [],
            "source": [
                "%sql\n",
                "SELECT * FROM silver;"
            ]
        },
        {
            "cell_type": "code",
            "execution_count": null,
            "metadata": {},
            "outputs": [],
            "source": [
                "%sql\n",
                "CREATE FUNCTION device_filter(device_id INT)\n",
                "    RETURNS IF(IS_ACCOUNT_GROUP_MEMBER('admin'), true, device_id < 30);"
            ]
        },
        {
            "cell_type": "code",
            "execution_count": null,
            "metadata": {},
            "outputs": [],
            "source": [
                "%sql\n",
                "ALTER TABLE silver SET ROW FILTER device_filter ON (device_id);"
            ]
        },
        {
            "cell_type": "code",
            "execution_count": null,
            "metadata": {},
            "outputs": [],
            "source": [
                "%sql\n",
                "SELECT * FROM silver;"
            ]
        },
        {
            "cell_type": "code",
            "execution_count": null,
            "metadata": {},
            "outputs": [],
            "source": [
                "%sql\n",
                "ALTER TABLE silver DROP ROW FILTER;"
            ]
        },
        {
            "cell_type": "code",
            "execution_count": null,
            "metadata": {},
            "outputs": [],
            "source": [
                "%sql\n",
                "SELECT * FROM silver;"
            ]
        },
        {
            "cell_type": "markdown",
            "metadata": {},
            "source": [
                "#### Task 9: Protecting Columns and Rows with Dynamic Views"
            ]
        },
        {
            "cell_type": "code",
            "execution_count": null,
            "metadata": {
                "vscode": {
                    "languageId": "python"
                }
            },
            "outputs": [],
            "source": [
                "# 9.1 Redacting Columns\n",
                "spark.sql(f'''\n",
                "          CREATE OR REPLACE VIEW gold AS\n",
                "          SELECT\n",
                "            CASE WHEN\n",
                "                is_account_group_member(\"{DA.iam.secondary}\") THEN 'REDACTED'\n",
                "                ELSE mrn\n",
                "            END AS mrn,\n",
                "            CASE WHEN\n",
                "                is_account_group_member(\"{DA.iam.secondary}\") THEN 'REDACTED'\n",
                "                ELSE name\n",
                "            END AS name,\n",
                "            MEAN(heartrate) avg_heartrate,\n",
                "            DATE_TRUNC(\"DD\", time) date\n",
                "            FROM silver\n",
                "            GROUP BY mrn, name, DATE_TRUNC(\"DD\", time);\n",
                "          ''')"
            ]
        },
        {
            "cell_type": "code",
            "execution_count": null,
            "metadata": {
                "vscode": {
                    "languageId": "python"
                }
            },
            "outputs": [],
            "source": [
                "# Re-issue the grant\n",
                "spark.sql(f\"GRANT SELECT ON VIEW gold TO `{DA.iam.secondary}`\")"
            ]
        },
        {
            "cell_type": "code",
            "execution_count": null,
            "metadata": {},
            "outputs": [],
            "source": [
                "%sql\n",
                "SELECT * FROM gold;"
            ]
        },
        {
            "cell_type": "code",
            "execution_count": null,
            "metadata": {
                "vscode": {
                    "languageId": "python"
                }
            },
            "outputs": [],
            "source": [
                "data = [] # Create a dataframe to store the table values\n",
                "\n",
                "try:\n",
                "    with DA.connection.cursor() as cursor:\n",
                "        cursor.execute(\"SELECT * FROM `{DA.secondary_principal_catalog_name}`.example.gold\")\n",
                "        result = cursor.fetchall()\n",
                "\n",
                "        for row in result:\n",
                "            data.append(row)\n",
                "            \n",
                "    # Create a dataframe from the list of tuples\n",
                "    df = spark.createDataFrame(data)\n",
                "    \n",
                "    # Show the Dataframe\n",
                "    display(df)\n",
                "except Exception as e:\n",
                "    print(\"Error: \\n\" + str(e))"
            ]
        },
        {
            "cell_type": "code",
            "execution_count": null,
            "metadata": {
                "vscode": {
                    "languageId": "python"
                }
            },
            "outputs": [],
            "source": [
                "# 9.2 Restrict rows\n",
                "spark.sql(f\"\"\"\n",
                "          CREATE OR REPLACE VIEW gold AS\n",
                "            SELECT\n",
                "                mrn\n",
                "                , time\n",
                "                , device_id\n",
                "                , heartrate\n",
                "            FROM silver\n",
                "            WHERE\n",
                "                CASE WHEN\n",
                "                    is_account_group_member(\"{DA.iam.secondary}\") THEN device_id < 30\n",
                "                    ELSE TRUE\n",
                "                END;\n",
                "          \"\"\")"
            ]
        },
        {
            "cell_type": "code",
            "execution_count": null,
            "metadata": {
                "vscode": {
                    "languageId": "python"
                }
            },
            "outputs": [],
            "source": [
                "# Re-issue the grant\n",
                "spark.sql(f\"GRANT SELECT ON VIEW gold TO `{DA.iam.secondary}`\")"
            ]
        },
        {
            "cell_type": "code",
            "execution_count": null,
            "metadata": {},
            "outputs": [],
            "source": [
                "%sql\n",
                "SELECT * FROM gold;"
            ]
        },
        {
            "cell_type": "code",
            "execution_count": null,
            "metadata": {
                "vscode": {
                    "languageId": "python"
                }
            },
            "outputs": [],
            "source": [
                "data = [] # Create a dataframe to store the table values\n",
                "\n",
                "try:\n",
                "    with DA.connection.cursor() as cursor:\n",
                "        cursor.execute(\"SELECT * FROM `{DA.secondary_principal_catalog_name}`.example.gold\")\n",
                "        result = cursor.fetchall()\n",
                "\n",
                "        for row in result:\n",
                "            data.append(row)\n",
                "            \n",
                "    # Create a dataframe from the list of tuples\n",
                "    df = spark.createDataFrame(data)\n",
                "    \n",
                "    # Show the Dataframe\n",
                "    display(df)\n",
                "except Exception as e:\n",
                "    print(\"Error: \\n\" + str(e))"
            ]
        },
        {
            "cell_type": "code",
            "execution_count": null,
            "metadata": {
                "vscode": {
                    "languageId": "python"
                }
            },
            "outputs": [],
            "source": [
                "# 9.3 Data Masking\n",
                "spark.sql(f\"\"\"\n",
                "          CREATE OR REPLACE VIEW gold AS\n",
                "            SELECT\n",
                "                CASE WHEN\n",
                "                    is_account_group_member(\"{DA.iam.secondary}\") THEN mask(mrn)\n",
                "                    ELSE mrn\n",
                "                END AS mrn\n",
                "                , time\n",
                "                , device_id\n",
                "                , heartrate\n",
                "            FROM silver\n",
                "            WHERE\n",
                "                CASE WHEN\n",
                "                    is_account_group_member(\"{DA.iam.secondary}\") THEN device_id < 30\n",
                "                    ELSE TRUE\n",
                "                END;\n",
                "          \"\"\")"
            ]
        },
        {
            "cell_type": "code",
            "execution_count": null,
            "metadata": {
                "vscode": {
                    "languageId": "python"
                }
            },
            "outputs": [],
            "source": [
                "# Re-issue the grant\n",
                "spark.sql(f\"GRANT SELECT ON VIEW gold TO `{DA.iam.secondary}`\")"
            ]
        },
        {
            "cell_type": "code",
            "execution_count": null,
            "metadata": {},
            "outputs": [],
            "source": [
                "%sql\n",
                "SELECT * FROM gold"
            ]
        },
        {
            "cell_type": "code",
            "execution_count": null,
            "metadata": {
                "vscode": {
                    "languageId": "python"
                }
            },
            "outputs": [],
            "source": [
                "data = [] # Create a dataframe to store the table values\n",
                "\n",
                "try:\n",
                "    with DA.connection.cursor() as cursor:\n",
                "        cursor.execute(\"SELECT * FROM `{DA.secondary_principal_catalog_name}`.example.gold\")\n",
                "        result = cursor.fetchall()\n",
                "\n",
                "        for row in result:\n",
                "            data.append(row)\n",
                "            \n",
                "    # Create a dataframe from the list of tuples\n",
                "    df = spark.createDataFrame(data)\n",
                "    \n",
                "    # Show the Dataframe\n",
                "    display(df)\n",
                "except Exception as e:\n",
                "    print(\"Error: \\n\" + str(e))"
            ]
        },
        {
            "cell_type": "markdown",
            "metadata": {},
            "source": [
                "### Stage 6: Analysis and Exploration"
            ]
        },
        {
            "cell_type": "code",
            "execution_count": null,
            "metadata": {},
            "outputs": [],
            "source": [
                "%sql\n",
                "SHOW TABLES"
            ]
        },
        {
            "cell_type": "code",
            "execution_count": null,
            "metadata": {},
            "outputs": [],
            "source": [
                "%sql\n",
                "SHOW VIEWS"
            ]
        },
        {
            "cell_type": "code",
            "execution_count": null,
            "metadata": {},
            "outputs": [],
            "source": [
                "%sql\n",
                "-- 10.3 Analyze Existing schemas\n",
                "SHOW SCHEMAS;\n",
                "SHOW SCHEMAS IN `{DA.secondary_principal_catalog_name}`;"
            ]
        },
        {
            "cell_type": "code",
            "execution_count": null,
            "metadata": {},
            "outputs": [],
            "source": [
                "%sql\n",
                "SHOW CATALOGS"
            ]
        },
        {
            "cell_type": "markdown",
            "metadata": {},
            "source": [
                "### Task 11: Exploring Permissions"
            ]
        },
        {
            "cell_type": "code",
            "execution_count": null,
            "metadata": {},
            "outputs": [],
            "source": [
                "%sql\n",
                "SHOW GRANTS ON VIEW gold"
            ]
        },
        {
            "cell_type": "code",
            "execution_count": null,
            "metadata": {},
            "outputs": [],
            "source": [
                "%sql\n",
                "SHOW GRANTS ON TABLE silver"
            ]
        },
        {
            "cell_type": "code",
            "execution_count": null,
            "metadata": {},
            "outputs": [],
            "source": [
                "%sql\n",
                "SHOW GRANTS ON SCHEMA example"
            ]
        },
        {
            "cell_type": "code",
            "execution_count": null,
            "metadata": {},
            "outputs": [],
            "source": [
                "%sql\n",
                "SHOW GRANTS ON CATALOG `{DA.secondary_principal_catalog_name}`"
            ]
        },
        {
            "cell_type": "markdown",
            "metadata": {},
            "source": [
                "### Task 12: Revoking Access"
            ]
        },
        {
            "cell_type": "code",
            "execution_count": null,
            "metadata": {},
            "outputs": [],
            "source": [
                "%sql\n",
                "SHOW GRANTS ON FUNCTION mask"
            ]
        },
        {
            "cell_type": "code",
            "execution_count": null,
            "metadata": {
                "vscode": {
                    "languageId": "python"
                }
            },
            "outputs": [],
            "source": [
                "# Revoking the grant\n",
                "spark.sql(f\"REVOKE EXECUTE ON FUNCTION mask FROM `{DA.iam.secondary}`\")"
            ]
        },
        {
            "cell_type": "code",
            "execution_count": null,
            "metadata": {},
            "outputs": [],
            "source": [
                "%sql\n",
                "SHOW GRANTS ON FUNCTION mask"
            ]
        },
        {
            "cell_type": "code",
            "execution_count": null,
            "metadata": {
                "vscode": {
                    "languageId": "python"
                }
            },
            "outputs": [],
            "source": [
                "# 12.4 Querying the view as the secondary Principal\n",
                "data = [] # Create a dataframe to store the table values\n",
                "\n",
                "try:\n",
                "    with DA.connection.cursor() as cursor:\n",
                "        cursor.execute(\"SELECT * FROM `{DA.secondary_principal_catalog_name}`.example.gold\")\n",
                "        result = cursor.fetchall()\n",
                "\n",
                "        for row in result:\n",
                "            data.append(row)\n",
                "            \n",
                "    # Create a dataframe from the list of tuples\n",
                "    df = spark.createDataFrame(data)\n",
                "    \n",
                "    # Show the Dataframe\n",
                "    display(df)\n",
                "except Exception as e:\n",
                "    print(\"Error: \\n\" + str(e))"
            ]
        },
        {
            "cell_type": "code",
            "execution_count": null,
            "metadata": {
                "vscode": {
                    "languageId": "python"
                }
            },
            "outputs": [],
            "source": [
                "# 12.5 Explore permissions on UDF\n",
                "# Revoke the grant\n",
                "spark.sql(f\"REVOKE USE CATALOG ON CATALOG `{DA.secondary_principal_name}` FROM `{DA.iam.secondary}`\")"
            ]
        },
        {
            "cell_type": "code",
            "execution_count": null,
            "metadata": {
                "vscode": {
                    "languageId": "python"
                }
            },
            "outputs": [],
            "source": [
                "# 12.6 Querying the view as the secondary Principal\n",
                "data = [] # Create a dataframe to store the table values\n",
                "\n",
                "try:\n",
                "    with DA.connection.cursor() as cursor:\n",
                "        cursor.execute(\"SELECT * FROM `{DA.secondary_principal_catalog_name}`.example.gold\")\n",
                "        result = cursor.fetchall()\n",
                "\n",
                "        for row in result:\n",
                "            data.append(row)\n",
                "            \n",
                "    # Create a dataframe from the list of tuples\n",
                "    df = spark.createDataFrame(data)\n",
                "    \n",
                "    # Show the Dataframe\n",
                "    display(df)\n",
                "except Exception as e:\n",
                "    print(\"Error: \\n\" + str(e))"
            ]
        },
        {
            "cell_type": "code",
            "execution_count": null,
            "metadata": {},
            "outputs": [],
            "source": [
                "%sql\n",
                "-- Clean up\n",
                "DROP CATALOG IF EXISTS `{DA.secondary_principal_catalog_name}` CASCADE"
            ]
        },
        {
            "cell_type": "code",
            "execution_count": null,
            "metadata": {
                "vscode": {
                    "languageId": "python"
                }
            },
            "outputs": [],
            "source": [
                "# Perform cleanup to release resources occupied by the DA object\n",
                "DA.cleanup()"
            ]
        }
    ],
    "metadata": {
        "kernelspec": {
            "display_name": "SQL",
            "language": "sql",
            "name": "SQL"
        },
        "language_info": {
            "name": "sql",
            "version": ""
        }
    },
    "nbformat": 4,
    "nbformat_minor": 2
}
